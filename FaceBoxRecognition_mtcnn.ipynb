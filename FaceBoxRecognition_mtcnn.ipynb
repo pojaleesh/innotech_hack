{
 "cells": [
  {
   "cell_type": "code",
   "execution_count": 19,
   "metadata": {},
   "outputs": [
    {
     "name": "stderr",
     "output_type": "stream",
     "text": [
      "Using TensorFlow backend.\n"
     ]
    }
   ],
   "source": [
    "from facenet_pytorch import InceptionResnetV1\n",
    "import matplotlib.pyplot as plt\n",
    "import numpy as np\n",
    "import torch\n",
    "from mtcnn import MTCNN"
   ]
  },
  {
   "cell_type": "code",
   "execution_count": 8,
   "metadata": {},
   "outputs": [
    {
     "name": "stderr",
     "output_type": "stream",
     "text": [
      "C:\\Users\\Mi Notebook\\Anaconda3\\lib\\site-packages\\torch\\cuda\\__init__.py:52: UserWarning: CUDA initialization: The NVIDIA driver on your system is too old (found version 9010). Please update your GPU driver by downloading and installing a new version from the URL: http://www.nvidia.com/Download/index.aspx Alternatively, go to: https://pytorch.org to install a PyTorch version that has been compiled with your version of the CUDA driver. (Triggered internally at  ..\\c10\\cuda\\CUDAFunctions.cpp:100.)\n",
      "  return torch._C._cuda_getDeviceCount() > 0\n"
     ]
    },
    {
     "name": "stdout",
     "output_type": "stream",
     "text": [
      "Running on device: cpu\n"
     ]
    }
   ],
   "source": [
    "device = torch.device('cuda:0' if torch.cuda.is_available() else 'cpu')\n",
    "print('Running on device: {}'.format(device))"
   ]
  },
  {
   "cell_type": "code",
   "execution_count": 15,
   "metadata": {},
   "outputs": [],
   "source": [
    "mtcnn = MTCNN()"
   ]
  },
  {
   "cell_type": "code",
   "execution_count": 46,
   "metadata": {},
   "outputs": [],
   "source": [
    "def crop(filename, x0, y0, width, height):\n",
    "    data = plt.imread(filename)\n",
    "    return data[y0:y0 + height , x0:x0 + width, :]"
   ]
  },
  {
   "cell_type": "code",
   "execution_count": 47,
   "metadata": {},
   "outputs": [],
   "source": [
    "def draw_facebox(filename, result_list):\n",
    "    data = plt.imread(filename)\n",
    "    plt.imshow(data)\n",
    "    ax = plt.gca()\n",
    "    \n",
    "    for result in result_list:\n",
    "        x, y, width, height = result\n",
    "        rect = plt.Rectangle((x, y), width, height, fill=False, color='green')\n",
    "        ax.add_patch(rect)\n",
    "    plt.show()\n",
    "\n",
    "    \n",
    "detector = MTCNN()"
   ]
  },
  {
   "cell_type": "code",
   "execution_count": 55,
   "metadata": {},
   "outputs": [],
   "source": [
    "def get_boxes(filename):\n",
    "    data = plt.imread(filename)\n",
    "    faces = detector.detect_faces(data)\n",
    "    res = []\n",
    "    for result in faces:\n",
    "        x0, y0, width, height = result['box']\n",
    "        res.append(crop(filename, x0, y0, width, height))\n",
    "    return res"
   ]
  },
  {
   "cell_type": "code",
   "execution_count": null,
   "metadata": {},
   "outputs": [],
   "source": [
    "path='https://sun1-97.userapi.com/impf/EGzCVkf3dGH0fZrb5_7bxl9DNj3tD_UFtlDJrw/LjtDLSnPHVI.jpg?size=200x0&quality=88&crop=25,66,352,352&sign=31e98a54ac1f5506ddb54ce62b6d853b&c_uniq_tag=-zGOBrFYSvQ85xKxwDD3daoOi4ITr7DCadxQWZSico0&ava=1'\n"
   ]
  }
 ],
 "metadata": {
  "kernelspec": {
   "display_name": "Python 3",
   "language": "python",
   "name": "python3"
  },
  "language_info": {
   "codemirror_mode": {
    "name": "ipython",
    "version": 3
   },
   "file_extension": ".py",
   "mimetype": "text/x-python",
   "name": "python",
   "nbconvert_exporter": "python",
   "pygments_lexer": "ipython3",
   "version": "3.7.3"
  }
 },
 "nbformat": 4,
 "nbformat_minor": 2
}
